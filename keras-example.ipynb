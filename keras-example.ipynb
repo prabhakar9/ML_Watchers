{
 "cells": [
  {
   "cell_type": "code",
   "execution_count": 3,
   "metadata": {
    "collapsed": false
   },
   "outputs": [],
   "source": [
    "%matplotlib inline\n",
    "\n",
    "# General Libraries\n",
    "import re\n",
    "import numpy as np\n",
    "import matplotlib.pyplot as plt\n",
    "import csv\n",
    "import pandas as pd\n",
    "\n",
    "# SK-learn libraries for learning.\n",
    "from sklearn.pipeline import Pipeline\n",
    "from sklearn.neighbors import KNeighborsClassifier\n",
    "from sklearn.linear_model import LogisticRegression\n",
    "from sklearn.naive_bayes import BernoulliNB\n",
    "from sklearn.naive_bayes import MultinomialNB\n",
    "from sklearn.grid_search import GridSearchCV\n",
    "\n",
    "# SK-learn libraries for evaluation.\n",
    "from sklearn.metrics import confusion_matrix\n",
    "from sklearn import metrics\n",
    "from sklearn.metrics import classification_report\n",
    "\n",
    "# SK-learn libraries for feature extraction from text.\n",
    "from sklearn.feature_extraction.text import *\n",
    "\n",
    "from sklearn.ensemble import RandomForestClassifier\n",
    "from sklearn.calibration import CalibratedClassifierCV\n",
    "from sklearn.metrics import log_loss\n",
    "\n"
   ]
  },
  {
   "cell_type": "code",
   "execution_count": 4,
   "metadata": {
    "collapsed": true
   },
   "outputs": [],
   "source": [
    "data_orig = pd.read_csv(\"../train.csv\")\n",
    "test_orig = pd.read_csv(\"../test.csv\")\n",
    "\n",
    "def build_features(data):\n",
    "    data['DateTime'] = pd.to_datetime(data['Dates'])\n",
    "    date_vector = data['DateTime'].dt.date\n",
    "    data['DateDiff'] = (date_vector - date_vector.min()) / np.timedelta64(1, 'D')\n",
    "    data['Year'] = pd.DatetimeIndex(data['DateTime']).year\n",
    "    data['Month'] = pd.DatetimeIndex(data['DateTime']).month\n",
    "    data['Day'] = pd.DatetimeIndex(data['DateTime']).day\n",
    "    data['Hour'] = pd.DatetimeIndex(data['DateTime']).hour\n",
    "    data['SecondsDelta'] = (data.DateTime - pd.Timestamp('2013-01-01')) / np.timedelta64(1,'s')\n",
    "    data['Weekend'] = (data.DayOfWeek == \"Saturday\") | (data.DayOfWeek == \"Sunday\")\n",
    "    years = pd.get_dummies(data.Year)\n",
    "    years.columns = ['2003', '2004', '2005', '2006', '2007', '2008', '2009', '2010', '2011', '2012', '2013', '2014', '2015']\n",
    "    months = pd.get_dummies(data.Month)\n",
    "    months.columns = ['Jan', 'Feb', 'Mar', 'Apr', 'May', 'Jun', 'Jul', 'Aug', 'Sep', 'Oct', 'Nov', 'Dec']\n",
    "    days = pd.get_dummies(data.Day)\n",
    "    days.columns = ['1', '2', '3', '4', '5', '6', '7', '8', '9', '10', '11', '12', '13', '14', '15', '16', '17', '18', '19', '20', '21', '22', '23', '24', '25', '26', '27', '28', '29', '30', '31']\n",
    "    daysofweek = pd.get_dummies(data.DayOfWeek)\n",
    "    hours = pd.get_dummies(data.Hour)\n",
    "    hours.columns = ['12AM', '1AM', '2AM', '3AM', '4AM', '5AM',\n",
    "                     '6AM', '7AM', '8AM', '9AM', '10AM', '11AM',\n",
    "                     '12PM', '1PM', '2PM', '3PM', '4PM', '5PM',\n",
    "                     '6PM', '7PM', '8PM', '9PM', '10PM', '11PM']\n",
    "    districts = pd.get_dummies(data.PdDistrict)\n",
    "    new_data = pd.concat([data, years, months, days, daysofweek, hours, districts], axis=1)\n",
    "    return new_data\n",
    "\n",
    "\n",
    "data = build_features(data_orig)\n",
    "test = build_features(test_orig)"
   ]
  },
  {
   "cell_type": "code",
   "execution_count": 5,
   "metadata": {
    "collapsed": false
   },
   "outputs": [
    {
     "name": "stdout",
     "output_type": "stream",
     "text": [
      "(878049, 147)\n",
      "(878049, 107)\n",
      "\n",
      "(884262, 147)\n",
      "(884262, 107)\n"
     ]
    }
   ],
   "source": [
    "# Generate location-based dummies\n",
    "XR3 = data['X'].round(decimals=3).apply(str)\n",
    "YR3 = data['Y'].round(decimals=3).apply(str)\n",
    "data_XR3s = pd.get_dummies(XR3)\n",
    "data_YR3s = pd.get_dummies(YR3)    \n",
    "XR3 = test['X'].round(decimals=3).apply(str)\n",
    "YR3 = test['Y'].round(decimals=3).apply(str)\n",
    "test_XR3s = pd.get_dummies(XR3)\n",
    "test_YR3s = pd.get_dummies(YR3)    \n",
    "\n",
    "#Subset the test to only include features that exist in training set\n",
    "test_XR3s = test_XR3s[list(data_XR3s)]\n",
    "test_YR3s = test_YR3s[list(data_YR3s)]\n",
    "\n",
    "print data_XR3s.shape\n",
    "print data_YR3s.shape\n",
    "print\n",
    "print test_XR3s.shape\n",
    "print test_YR3s.shape"
   ]
  },
  {
   "cell_type": "code",
   "execution_count": 6,
   "metadata": {
    "collapsed": true
   },
   "outputs": [],
   "source": [
    "# Separate labels\n",
    "train_labels = data.Category\n",
    "\n",
    "# Create integer labels\n",
    "panda_labels = pd.Categorical(data.Category).codes\n",
    "\n",
    "train_labels_int = np.array(panda_labels).astype(np.int32)\n",
    "\n",
    "# Drop Category, Descript and Resolution columns since they are not in the test set.\n",
    "# Drop non-numerics too - they are accounted for as dummy variables.\n",
    "train_data = data.drop(['Category', 'Descript', 'Resolution', 'DateTime', 'Dates', 'PdDistrict', 'Address', 'DayOfWeek'], axis=1)\n",
    "train_data.Weekend = train_data.Weekend * 1\n",
    "train_names = train_data.columns.values.tolist()\n",
    "\n",
    "test_data = test.drop(['DateTime', 'Dates', 'PdDistrict', 'Address', 'DayOfWeek'], axis=1)\n",
    "test_data.Weekend = test_data.Weekend * 1\n",
    "test_names = test_data.columns.values.tolist()"
   ]
  },
  {
   "cell_type": "code",
   "execution_count": 7,
   "metadata": {
    "collapsed": false
   },
   "outputs": [],
   "source": [
    "features = ['Jan','Friday', 'Monday', 'Saturday', 'Sunday', 'Thursday', 'Tuesday', 'Wednesday', '12AM', '1AM', '2AM', '3AM', '4AM', '5AM', '6AM', '7AM', '8AM', '9AM', '10AM', '11AM', '12PM', '1PM', '2PM', '3PM', '4PM', '5PM', '6PM', '7PM', '8PM', '9PM', '10PM', '11PM', 'BAYVIEW', 'CENTRAL', 'INGLESIDE', 'MISSION', 'NORTHERN', 'PARK', 'RICHMOND', 'SOUTHERN', 'TARAVAL', 'TENDERLOIN']\n",
    "np_train_data = np.array(pd.concat([train_data[features], (data.Year < 2006) * 1, (data.Year < 2008) * 1, (data.Year < 2010) * 1, data_XR3s, data_YR3s], axis=1))\n",
    "np_test_data = np.array(pd.concat([test_data[features], (test.Year < 2006) * 1, (test.Year < 2008) * 1, (test.Year < 2010) * 1, test_XR3s[list(data_XR3s)], test_YR3s[list(data_YR3s)]], axis=1))"
   ]
  },
  {
   "cell_type": "code",
   "execution_count": 8,
   "metadata": {
    "collapsed": false
   },
   "outputs": [
    {
     "name": "stdout",
     "output_type": "stream",
     "text": [
      "(878049L, 299L)\n",
      "(878049L,)\n",
      "[37 21 21]\n",
      "['ARSON' 'ASSAULT' 'BAD CHECKS' 'BRIBERY' 'BURGLARY' 'DISORDERLY CONDUCT'\n",
      " 'DRIVING UNDER THE INFLUENCE' 'DRUG/NARCOTIC' 'DRUNKENNESS' 'EMBEZZLEMENT'\n",
      " 'EXTORTION' 'FAMILY OFFENSES' 'FORGERY/COUNTERFEITING' 'FRAUD' 'GAMBLING'\n",
      " 'KIDNAPPING' 'LARCENY/THEFT' 'LIQUOR LAWS' 'LOITERING' 'MISSING PERSON'\n",
      " 'NON-CRIMINAL' 'OTHER OFFENSES' 'PORNOGRAPHY/OBSCENE MAT' 'PROSTITUTION'\n",
      " 'RECOVERED VEHICLE' 'ROBBERY' 'RUNAWAY' 'SECONDARY CODES'\n",
      " 'SEX OFFENSES FORCIBLE' 'SEX OFFENSES NON FORCIBLE' 'STOLEN PROPERTY'\n",
      " 'SUICIDE' 'SUSPICIOUS OCC' 'TREA' 'TRESPASS' 'VANDALISM' 'VEHICLE THEFT'\n",
      " 'WARRANTS' 'WEAPON LAWS']\n"
     ]
    }
   ],
   "source": [
    "np_train_labels = np.array(panda_labels)\n",
    "print np_train_data.shape\n",
    "print np_train_labels.shape\n",
    "\n",
    "print np_train_labels[:3]\n",
    "\n",
    "print np.unique(train_labels)\n"
   ]
  },
  {
   "cell_type": "code",
   "execution_count": 9,
   "metadata": {
    "collapsed": true
   },
   "outputs": [],
   "source": [
    "mini_trainX, mini_train_labels = np_train_data[:200000], np_train_labels[:200000]\n",
    "mini_testX, mini_test_labels = np_train_data[200000:400000], np_train_labels[200000:400000]"
   ]
  },
  {
   "cell_type": "code",
   "execution_count": 8,
   "metadata": {
    "collapsed": false
   },
   "outputs": [
    {
     "name": "stdout",
     "output_type": "stream",
     "text": [
      "Completed training with best C\n",
      "Logistic Regression Results\n",
      "--------------------\n",
      "Accuracy:  0.22536\n",
      "Log Loss:  2.59505159313\n",
      "F1 Score:  0.313056360511\n"
     ]
    },
    {
     "name": "stderr",
     "output_type": "stream",
     "text": [
      "C:\\Users\\pgundugola\\Downloads\\WinPython-64bit-2.7.10.2\\python-2.7.10.amd64\\lib\\site-packages\\sklearn\\metrics\\classification.py:676: DeprecationWarning: The default `weighted` averaging is deprecated, and from version 0.18, use of precision, recall or F-score with multiclass or multilabel data or pos_label=None will result in an exception. Please set an explicit value for `average`, one of (None, 'micro', 'macro', 'weighted', 'samples'). In cross validation use, for instance, scoring=\"f1_weighted\" instead of scoring=\"f1\".\n",
      "  sample_weight=sample_weight)\n",
      "C:\\Users\\pgundugola\\Downloads\\WinPython-64bit-2.7.10.2\\python-2.7.10.amd64\\lib\\site-packages\\sklearn\\metrics\\classification.py:960: UndefinedMetricWarning: F-score is ill-defined and being set to 0.0 in labels with no true samples.\n",
      "  'recall', 'true', average, warn_for)\n"
     ]
    }
   ],
   "source": [
    "clf = LogisticRegression(penalty='l2', C=0.01, tol=0.01)\n",
    "clf.fit(mini_trainX, mini_train_labels)\n",
    "print \"Completed training with best C\"\n",
    "clf_accuracy = clf.score(mini_testX, mini_test_labels)\n",
    "clf_probs = clf.predict_proba(mini_testX)\n",
    "clf_log_loss = log_loss(mini_test_labels, clf_probs)\n",
    "f1_score = metrics.f1_score(clf.predict(mini_testX), mini_test_labels)\n",
    "\n",
    "print \"Logistic Regression Results\"\n",
    "print \"--------------------\"\n",
    "print \"Accuracy: \", clf_accuracy\n",
    "print \"Log Loss: \", clf_log_loss\n",
    "print \"F1 Score: \", f1_score"
   ]
  },
  {
   "cell_type": "code",
   "execution_count": 32,
   "metadata": {
    "collapsed": false
   },
   "outputs": [
    {
     "name": "stdout",
     "output_type": "stream",
     "text": [
      "Completed the training\n"
     ]
    }
   ],
   "source": [
    "lr = LogisticRegression(penalty='l2', C=0.01, tol=0.01)\n",
    "lr.fit(np_train_data, np_train_labels)\n",
    "print \"Completed the training\""
   ]
  },
  {
   "cell_type": "code",
   "execution_count": 34,
   "metadata": {
    "collapsed": false
   },
   "outputs": [
    {
     "name": "stdout",
     "output_type": "stream",
     "text": [
      "(884262L, 39L)\n",
      "[[ 0.00564554  0.1141673   0.00107871  0.00193759  0.02753063  0.00284736\n",
      "   0.00764611  0.02101522  0.00604462  0.00146333  0.00135948  0.00163274\n",
      "   0.00132     0.00630307  0.00141343  0.00570524  0.17905658  0.00186494\n",
      "   0.001429    0.0263378   0.07059757  0.15749684  0.00119061  0.00152417\n",
      "   0.00557516  0.04296505  0.00248459  0.02178049  0.00605755  0.00134107\n",
      "   0.00585947  0.00143808  0.03777207  0.00120339  0.00537556  0.09322493\n",
      "   0.07210074  0.03494107  0.02127292]]\n"
     ]
    }
   ],
   "source": [
    "probs = lr.predict_proba(np_test_data)\n",
    "print probs.shape\n",
    "print probs[:1]"
   ]
  },
  {
   "cell_type": "code",
   "execution_count": 38,
   "metadata": {
    "collapsed": false
   },
   "outputs": [
    {
     "name": "stdout",
     "output_type": "stream",
     "text": [
      "Job completed\n"
     ]
    }
   ],
   "source": [
    "import gzip\n",
    "with gzip.open('submission-matrix-6.csv.gz', 'wb') as f:\n",
    "    out = csv.writer(f, lineterminator='\\n')\n",
    "    out.writerow(['Id'] + list(np.unique(train_labels)))\n",
    "    \n",
    "    for i, prob in enumerate(probs):\n",
    "        out.writerow([i] + list(prob))\n",
    "print \"Job completed\"    "
   ]
  },
  {
   "cell_type": "code",
   "execution_count": 2,
   "metadata": {
    "collapsed": false
   },
   "outputs": [],
   "source": [
    "# Keras\n",
    "from keras.layers.advanced_activations import PReLU\n",
    "from keras.layers.core import Dense, Dropout, Activation\n",
    "from keras.layers.normalization import BatchNormalization\n",
    "from keras.models import Sequential\n",
    "from keras.utils import np_utils\n",
    "from sklearn.cross_validation import KFold\n",
    "from sklearn.preprocessing import StandardScaler"
   ]
  },
  {
   "cell_type": "code",
   "execution_count": 10,
   "metadata": {
    "collapsed": false
   },
   "outputs": [
    {
     "name": "stdout",
     "output_type": "stream",
     "text": [
      "299\n",
      "878049\n"
     ]
    }
   ],
   "source": [
    "print np_train_data.shape[1]\n",
    "print len(train_labels_int)\n",
    "Y = np_utils.to_categorical(np_train_labels)"
   ]
  },
  {
   "cell_type": "code",
   "execution_count": 11,
   "metadata": {
    "collapsed": true
   },
   "outputs": [],
   "source": [
    "def get_model(input_dim, output_dim, wbit, dp, layers):\n",
    "    keras = Sequential()\n",
    "    keras.add(Dense(input_dim, wbit, init='glorot_uniform'))\n",
    "    keras.add(PReLU((wbit,)))\n",
    "    keras.add(Dropout(dp))\n",
    "\n",
    "    for i in range(layers):\n",
    "        keras.add(Dense(wbit, wbit, init='glorot_uniform'))\n",
    "        keras.add(PReLU((wbit,)))\n",
    "        keras.add(BatchNormalization((wbit,)))\n",
    "        keras.add(Dropout(dp))\n",
    "\n",
    "    keras.add(Dense(wbit, output_dim, init='glorot_uniform'))\n",
    "    keras.add(Activation('softmax'))\n",
    "    keras.compile(loss='categorical_crossentropy', optimizer='adam')\n",
    "    return keras\n",
    "\n",
    "input_dim = np_train_data.shape[1]\n",
    "output_dim = 39\n",
    "wbit = 64\n",
    "EPOCHS = 50\n",
    "RUN_FOLDS = False\n",
    "BATCHES = 128\n",
    "nb_folds = 4\n",
    "dp = 0.5\n",
    "layers = 2\n",
    "kfolds = KFold(len(train_labels_int), nb_folds)\n",
    "keras = get_model(input_dim, output_dim, wbit, dp, layers)"
   ]
  },
  {
   "cell_type": "code",
   "execution_count": 12,
   "metadata": {
    "collapsed": false
   },
   "outputs": [
    {
     "name": "stdout",
     "output_type": "stream",
     "text": [
      "Epoch 0\n",
      "878049/878049 [==============================] - 86s - loss: 2.6228    \n",
      "Epoch 1\n",
      "878049/878049 [==============================] - 64s - loss: 2.5577    \n",
      "Epoch 2\n",
      "878049/878049 [==============================] - 65s - loss: 2.5404    \n",
      "Epoch 3\n",
      "878049/878049 [==============================] - 59s - loss: 2.5309    \n",
      "Epoch 4\n",
      "878049/878049 [==============================] - 51s - loss: 2.5251    \n",
      "Epoch 5\n",
      "878049/878049 [==============================] - 53s - loss: 2.5215    \n",
      "Epoch 6\n",
      "878049/878049 [==============================] - 47s - loss: 2.5172    \n",
      "Epoch 7\n",
      "878049/878049 [==============================] - 48s - loss: 2.5142    \n",
      "Epoch 8\n",
      "878049/878049 [==============================] - 46s - loss: 2.5127    \n",
      "Epoch 9\n",
      "878049/878049 [==============================] - 50s - loss: 2.5107    \n",
      "Epoch 10\n",
      "878049/878049 [==============================] - 48s - loss: 2.5088    \n",
      "Epoch 11\n",
      "878049/878049 [==============================] - 47s - loss: 2.5071    \n",
      "Epoch 12\n",
      "878049/878049 [==============================] - 47s - loss: 2.5061    \n",
      "Epoch 13\n",
      "878049/878049 [==============================] - 48s - loss: 2.5043    \n",
      "Epoch 14\n",
      "878049/878049 [==============================] - 49s - loss: 2.5033    \n",
      "Epoch 15\n",
      "878049/878049 [==============================] - 47s - loss: 2.5021    \n",
      "Epoch 16\n",
      "878049/878049 [==============================] - 47s - loss: 2.5017    \n",
      "Epoch 17\n",
      "878049/878049 [==============================] - 50s - loss: 2.5005    \n",
      "Epoch 18\n",
      "878049/878049 [==============================] - 49s - loss: 2.4999    \n",
      "Epoch 19\n",
      "878049/878049 [==============================] - 47s - loss: 2.4997    \n",
      "Epoch 20\n",
      "878049/878049 [==============================] - 52s - loss: 2.4987    \n",
      "Epoch 21\n",
      "878049/878049 [==============================] - 52s - loss: 2.4981    \n",
      "Epoch 22\n",
      "878049/878049 [==============================] - 66s - loss: 2.4973    \n",
      "Epoch 23\n",
      "878049/878049 [==============================] - 103s - loss: 2.4972   \n",
      "Epoch 24\n",
      "878049/878049 [==============================] - 114s - loss: 2.4972   \n",
      "Epoch 25\n",
      "878049/878049 [==============================] - 93s - loss: 2.4964    \n",
      "Epoch 26\n",
      "878049/878049 [==============================] - 58s - loss: 2.4971    \n",
      "Epoch 27\n",
      "878049/878049 [==============================] - 58s - loss: 2.4959    \n",
      "Epoch 28\n",
      "878049/878049 [==============================] - 60s - loss: 2.4956    \n",
      "Epoch 29\n",
      "878049/878049 [==============================] - 57s - loss: 2.4948    \n",
      "Epoch 30\n",
      "878049/878049 [==============================] - 58s - loss: 2.4950    \n",
      "Epoch 31\n",
      "878049/878049 [==============================] - 62s - loss: 2.4950    \n",
      "Epoch 32\n",
      "878049/878049 [==============================] - 60s - loss: 2.4947    \n",
      "Epoch 33\n",
      "878049/878049 [==============================] - 57s - loss: 2.4941    \n",
      "Epoch 34\n",
      "878049/878049 [==============================] - 58s - loss: 2.4940    \n",
      "Epoch 35\n",
      "878049/878049 [==============================] - 58s - loss: 2.4943    \n",
      "Epoch 36\n",
      "878049/878049 [==============================] - 77s - loss: 2.4947    \n",
      "Epoch 37\n",
      "878049/878049 [==============================] - 64s - loss: 2.4932    \n",
      "Epoch 38\n",
      "878049/878049 [==============================] - 51s - loss: 2.4934    \n",
      "Epoch 39\n",
      "878049/878049 [==============================] - 46s - loss: 2.4932    \n",
      "Epoch 40\n",
      "878049/878049 [==============================] - 46s - loss: 2.4928    \n",
      "Epoch 41\n",
      "878049/878049 [==============================] - 47s - loss: 2.4928    \n",
      "Epoch 42\n",
      "878049/878049 [==============================] - 47s - loss: 2.4921    \n",
      "Epoch 43\n",
      "878049/878049 [==============================] - 47s - loss: 2.4926    \n",
      "Epoch 44\n",
      "878049/878049 [==============================] - 46s - loss: 2.4929    \n",
      "Epoch 45\n",
      "878049/878049 [==============================] - 46s - loss: 2.4931    \n",
      "Epoch 46\n",
      "878049/878049 [==============================] - 48s - loss: 2.4921    \n",
      "Epoch 47\n",
      "878049/878049 [==============================] - 49s - loss: 2.4921    \n",
      "Epoch 48\n",
      "878049/878049 [==============================] - 59s - loss: 2.4917    \n",
      "Epoch 49\n",
      "878049/878049 [==============================] - 48s - loss: 2.4925    \n"
     ]
    },
    {
     "data": {
      "text/plain": [
       "<keras.callbacks.History at 0x52245978>"
      ]
     },
     "execution_count": 12,
     "metadata": {},
     "output_type": "execute_result"
    }
   ],
   "source": [
    "keras.fit(np_train_data, Y, nb_epoch=EPOCHS)"
   ]
  },
  {
   "cell_type": "code",
   "execution_count": 13,
   "metadata": {
    "collapsed": false
   },
   "outputs": [
    {
     "name": "stdout",
     "output_type": "stream",
     "text": [
      "[[  3.25674705e-03   1.22304907e-01   1.81807564e-04   6.43533533e-04\n",
      "    4.31008785e-02   2.34723054e-03   4.83023084e-03   4.01066927e-02\n",
      "    4.83486479e-03   5.48736742e-04   2.89118463e-04   5.38090773e-04\n",
      "    6.27333516e-03   1.11132646e-02   1.78778847e-04   4.56025970e-03\n",
      "    1.27314537e-01   2.22818542e-03   3.69942682e-04   2.88985227e-02\n",
      "    8.52939424e-02   1.77825962e-01   1.07319319e-05   1.52738432e-03\n",
      "    6.89246199e-03   3.73732930e-02   1.47059583e-03   2.10422065e-02\n",
      "    6.66893637e-03   2.07756043e-04   4.91733695e-03   6.89931348e-04\n",
      "    4.14000600e-02   1.31568562e-07   5.23058896e-03   7.80024616e-02\n",
      "    7.30121426e-02   3.79294526e-02   1.65849594e-02]]\n"
     ]
    }
   ],
   "source": [
    "keras_probs = keras.predict_proba(np_test_data, verbose=0)\n",
    "print keras_probs[:1]"
   ]
  },
  {
   "cell_type": "code",
   "execution_count": 64,
   "metadata": {
    "collapsed": false
   },
   "outputs": [
    {
     "name": "stdout",
     "output_type": "stream",
     "text": [
      "[[  2.46946225e-03   1.01283441e-01   6.10345719e-04   4.44019889e-04\n",
      "    4.79291865e-02   4.98406825e-03   3.38991233e-03   3.68961106e-02\n",
      "    5.42482574e-03   1.37701374e-03   3.39711722e-04   8.02718677e-04\n",
      "    1.31758390e-02   1.74560687e-02   2.44102512e-04   3.38563075e-03\n",
      "    1.34035570e-01   2.39675808e-03   1.39450970e-03   4.47952345e-02\n",
      "    9.33920933e-02   1.57301968e-01   8.11747503e-05   7.30870354e-03\n",
      "    4.91641267e-03   3.07563686e-02   3.56377344e-03   1.50235923e-02\n",
      "    6.23720459e-03   2.68768026e-04   5.49464713e-03   7.84952416e-04\n",
      "    4.02869381e-02   3.78244538e-05   8.49103600e-03   6.38030441e-02\n",
      "    8.61019080e-02   4.05860824e-02   1.27289782e-02]]\n",
      "(884262L, 39L)\n"
     ]
    }
   ],
   "source": [
    "print keras_probs[:1]\n",
    "print keras_probs.shape"
   ]
  },
  {
   "cell_type": "code",
   "execution_count": 14,
   "metadata": {
    "collapsed": false
   },
   "outputs": [
    {
     "name": "stdout",
     "output_type": "stream",
     "text": [
      "Job completed\n"
     ]
    }
   ],
   "source": [
    "import gzip\n",
    "with gzip.open('submission-matrix-keras-10.csv.gz', 'wb') as f:\n",
    "    out = csv.writer(f, lineterminator='\\n')\n",
    "    out.writerow(['Id'] + list(np.unique(train_labels)))\n",
    "    \n",
    "    for i, prob in enumerate(keras_probs):\n",
    "        out.writerow([i] + list(prob))\n",
    "print \"Job completed\"    "
   ]
  },
  {
   "cell_type": "code",
   "execution_count": 69,
   "metadata": {
    "collapsed": true
   },
   "outputs": [],
   "source": [
    "keras1 = get_model(input_dim, output_dim, wbit, dp, layers)"
   ]
  },
  {
   "cell_type": "code",
   "execution_count": 70,
   "metadata": {
    "collapsed": true
   },
   "outputs": [],
   "source": [
    "mini_kerasX, mini_keras_labels = np_train_data[:200000], Y[:200000]\n",
    "mini_testX, mini_test_labels = np_train_data[200000:400000], Y[200000:400000]"
   ]
  },
  {
   "cell_type": "code",
   "execution_count": null,
   "metadata": {
    "collapsed": false
   },
   "outputs": [
    {
     "name": "stdout",
     "output_type": "stream",
     "text": [
      "Epoch 0\n",
      "200000/200000 [==============================] - 14s - loss: 2.6049    \n",
      "Epoch 1\n",
      "200000/200000 [==============================] - 15s - loss: 2.5171    \n",
      "Epoch 2\n",
      "200000/200000 [==============================] - 13s - loss: 2.4954    \n",
      "Epoch 3\n",
      "200000/200000 [==============================] - 19s - loss: 2.4816    \n",
      "Epoch 4\n",
      "200000/200000 [==============================] - 16s - loss: 2.4716    \n",
      "Epoch 5\n",
      "200000/200000 [==============================] - 26s - loss: 2.4621    \n",
      "Epoch 6\n",
      "200000/200000 [==============================] - 16s - loss: 2.4562    \n",
      "Epoch 7\n",
      "200000/200000 [==============================] - 17s - loss: 2.4504    \n",
      "Epoch 8\n",
      "200000/200000 [==============================] - 17s - loss: 2.4461    \n",
      "Epoch 9\n",
      "200000/200000 [==============================] - 16s - loss: 2.4422    \n",
      "Epoch 10\n",
      "200000/200000 [==============================] - 16s - loss: 2.4378    \n",
      "Epoch 11\n",
      "200000/200000 [==============================] - 17s - loss: 2.4345    \n",
      "Epoch 12\n",
      "200000/200000 [==============================] - 17s - loss: 2.4321    \n",
      "Epoch 13\n",
      "200000/200000 [==============================] - 19s - loss: 2.4296    \n",
      "Epoch 14\n",
      "200000/200000 [==============================] - 9s - loss: 2.4288     \n",
      "Epoch 15\n",
      "200000/200000 [==============================] - 9s - loss: 2.4253     \n",
      "Epoch 16\n",
      "200000/200000 [==============================] - 9s - loss: 2.4246     \n",
      "Epoch 17\n",
      "200000/200000 [==============================] - 9s - loss: 2.4224     \n",
      "Epoch 18\n",
      "200000/200000 [==============================] - 20s - loss: 2.4222    \n",
      "Epoch 19\n",
      "200000/200000 [==============================] - 24s - loss: 2.4193    \n",
      "Epoch 20\n",
      "200000/200000 [==============================] - 20s - loss: 2.4182    \n",
      "Epoch 21\n",
      "200000/200000 [==============================] - 13s - loss: 2.4162    \n",
      "Epoch 22\n",
      "200000/200000 [==============================] - 13s - loss: 2.4148    \n",
      "Epoch 23\n",
      "200000/200000 [==============================] - 9s - loss: 2.4154     \n",
      "Epoch 24\n",
      "200000/200000 [==============================] - 12s - loss: 2.4127    \n",
      "Epoch 25\n",
      "200000/200000 [==============================] - 23s - loss: 2.4124    \n",
      "Epoch 26\n",
      "200000/200000 [==============================] - 21s - loss: 2.4116    \n",
      "Epoch 27\n",
      "200000/200000 [==============================] - 14s - loss: 2.4099    \n",
      "Epoch 28\n",
      "200000/200000 [==============================] - 9s - loss: 2.4094     \n",
      "Epoch 29\n",
      "200000/200000 [==============================] - 14s - loss: 2.4090    \n",
      "Epoch 30\n",
      "200000/200000 [==============================] - 20s - loss: 2.4082    \n",
      "Epoch 31\n",
      "200000/200000 [==============================] - 18s - loss: 2.4074    \n",
      "Epoch 32\n",
      "200000/200000 [==============================] - 19s - loss: 2.4067    \n",
      "Epoch 33\n",
      "200000/200000 [==============================] - 18s - loss: 2.4058    \n",
      "Epoch 34\n",
      "200000/200000 [==============================] - 18s - loss: 2.4060    \n",
      "Epoch 35\n",
      "200000/200000 [==============================] - 18s - loss: 2.4049    \n",
      "Epoch 36\n",
      "200000/200000 [==============================] - 19s - loss: 2.4040    \n",
      "Epoch 37\n",
      "200000/200000 [==============================] - 18s - loss: 2.4038    \n",
      "Epoch 38\n",
      "200000/200000 [==============================] - 19s - loss: 2.4032    \n",
      "Epoch 39\n",
      "200000/200000 [==============================] - 20s - loss: 2.4018    \n",
      "Epoch 40\n",
      "200000/200000 [==============================] - 20s - loss: 2.4019    \n",
      "Epoch 41\n",
      "200000/200000 [==============================] - 20s - loss: 2.4014    \n",
      "Epoch 42\n",
      "200000/200000 [==============================] - 21s - loss: 2.4013    \n",
      "Epoch 43\n",
      "200000/200000 [==============================] - 20s - loss: 2.4015    \n",
      "Epoch 44\n",
      "200000/200000 [==============================] - 20s - loss: 2.4002    \n",
      "Epoch 45\n",
      "200000/200000 [==============================] - 19s - loss: 2.3991    \n",
      "Epoch 46\n",
      "200000/200000 [==============================] - 15s - loss: 2.3991    \n",
      "Epoch 47\n",
      "200000/200000 [==============================] - 10s - loss: 2.4005    \n",
      "Epoch 48\n",
      "200000/200000 [==============================] - 11s - loss: 2.3985    \n",
      "Epoch 49\n",
      "200000/200000 [==============================] - 13s - loss: 2.3979    \n",
      "Epoch 50\n",
      "200000/200000 [==============================] - 9s - loss: 2.3983     \n",
      "Epoch 51\n",
      "200000/200000 [==============================] - 14s - loss: 2.3975    \n",
      "Epoch 52\n",
      "200000/200000 [==============================] - 9s - loss: 2.3976     \n",
      "Epoch 53\n",
      "200000/200000 [==============================] - 9s - loss: 2.3961     \n",
      "Epoch 54\n",
      "200000/200000 [==============================] - 9s - loss: 2.3974     \n",
      "Epoch 55\n",
      "200000/200000 [==============================] - 22s - loss: 2.3950    \n",
      "Epoch 56\n",
      "200000/200000 [==============================] - 13s - loss: 2.3957    \n",
      "Epoch 57\n",
      "200000/200000 [==============================] - 10s - loss: 2.3951    \n",
      "Epoch 58\n",
      "200000/200000 [==============================] - 11s - loss: 2.3945    \n",
      "Epoch 59\n",
      "200000/200000 [==============================] - 10s - loss: 2.3944    \n",
      "Epoch 60\n",
      "200000/200000 [==============================] - 9s - loss: 2.3954     \n",
      "Epoch 61\n",
      "200000/200000 [==============================] - 9s - loss: 2.3945     \n",
      "Epoch 62\n",
      "200000/200000 [==============================] - 9s - loss: 2.3940     \n",
      "Epoch 63\n",
      "200000/200000 [==============================] - 9s - loss: 2.3949     \n",
      "Epoch 64\n",
      "200000/200000 [==============================] - 10s - loss: 2.3936    \n",
      "Epoch 65\n",
      "200000/200000 [==============================] - 8s - loss: 2.3936     \n",
      "Epoch 66\n",
      "200000/200000 [==============================] - 9s - loss: 2.3932     \n",
      "Epoch 67\n",
      "200000/200000 [==============================] - 9s - loss: 2.3925     \n",
      "Epoch 68\n",
      "200000/200000 [==============================] - 10s - loss: 2.3929    \n",
      "Epoch 69\n",
      "200000/200000 [==============================] - 9s - loss: 2.3920     \n",
      "Epoch 70\n",
      "200000/200000 [==============================] - 8s - loss: 2.3924     \n",
      "Epoch 71\n",
      "200000/200000 [==============================] - 9s - loss: 2.3911     \n",
      "Epoch 72\n",
      "200000/200000 [==============================] - 8s - loss: 2.3931     \n",
      "Epoch 73\n",
      "200000/200000 [==============================] - 12s - loss: 2.3926    \n",
      "Epoch 74\n",
      "200000/200000 [==============================] - 17s - loss: 2.3917    \n",
      "Epoch 75\n",
      " 54016/200000 [=======>......................] - ETA: 13s - loss: 2.3815"
     ]
    }
   ],
   "source": [
    "\n",
    "keras1.fit(mini_kerasX, mini_keras_labels, np_epochs=64)\n",
    "print \"Completed training with best C\"\n",
    "clf_accuracy = keras1.score(mini_testX, mini_test_labels)\n",
    "clf_probs = keras1.predict_proba(mini_testX)\n",
    "clf_log_loss = log_loss(mini_test_labels, clf_probs)\n",
    "f1_score = metrics.f1_score(keras1.predict(mini_testX), mini_test_labels)\n",
    "\n",
    "print \"Keras Results\"\n",
    "print \"--------------------\"\n",
    "print \"Accuracy: \", clf_accuracy\n",
    "print \"Log Loss: \", clf_log_loss\n",
    "print \"F1 Score: \", f1_score"
   ]
  },
  {
   "cell_type": "code",
   "execution_count": null,
   "metadata": {
    "collapsed": true
   },
   "outputs": [],
   "source": []
  }
 ],
 "metadata": {
  "kernelspec": {
   "display_name": "Python 2",
   "language": "python",
   "name": "python2"
  },
  "language_info": {
   "codemirror_mode": {
    "name": "ipython",
    "version": 2
   },
   "file_extension": ".py",
   "mimetype": "text/x-python",
   "name": "python",
   "nbconvert_exporter": "python",
   "pygments_lexer": "ipython2",
   "version": "2.7.10"
  }
 },
 "nbformat": 4,
 "nbformat_minor": 0
}
